{
  "nbformat": 4,
  "nbformat_minor": 0,
  "metadata": {
    "colab": {
      "provenance": []
    },
    "kernelspec": {
      "name": "python3",
      "display_name": "Python 3"
    },
    "language_info": {
      "name": "python"
    }
  },
  "cells": [
    {
      "cell_type": "code",
      "source": [
        "pip install pmdarima\n",
        "pip install geopandas"
      ],
      "metadata": {
        "id": "yLGdDqUCfMAN"
      },
      "execution_count": null,
      "outputs": []
    },
    {
      "cell_type": "code",
      "source": [
        "import numpy as np\n",
        "import pandas as pd\n",
        "import os\n",
        "import json\n",
        "import geopandas as gpd\n",
        "import seaborn as sns\n",
        "import matplotlib.pyplot as plt\n",
        "import folium \n",
        "from folium import Choropleth, Circle, Marker\n",
        "from folium.plugins import HeatMap, MarkerCluster\n",
        "from IPython.display import display, Markdown\n",
        "from matplotlib.pylab import rcParams\n",
        "rcParams['figure.figsize'] = 20, 16\n",
        "import warnings\n",
        "import itertools\n",
        "warnings.filterwarnings(\"ignore\")\n",
        "import statsmodels\n",
        "import statsmodels.api as sm\n",
        "from statsmodels.tsa.stattools import coint, adfuller\n"
      ],
      "metadata": {
        "id": "bNEgna9Ie01b"
      },
      "execution_count": null,
      "outputs": []
    },
    {
      "cell_type": "code",
      "source": [
        "from google.colab import files\n",
        "uploaded = files.upload()"
      ],
      "metadata": {
        "id": "gQKzy2axflzj"
      },
      "execution_count": null,
      "outputs": []
    },
    {
      "cell_type": "markdown",
      "source": [
        "데이터 불러오기\n"
      ],
      "metadata": {
        "id": "DclX9bjrqBsw"
      }
    },
    {
      "cell_type": "code",
      "source": [
        "stations = pd.read_csv('Measurement_station_info.csv')\n",
        "measurements = pd.read_csv('Measurement_info.csv')\n",
        "items = pd.read_csv('Measurement_item_info.csv')\n",
        "df = pd.read_csv('Measurement_summary.csv')"
      ],
      "metadata": {
        "id": "D_C2VX8FfvfH"
      },
      "execution_count": null,
      "outputs": []
    },
    {
      "cell_type": "markdown",
      "source": [
        "데이터 형식 보기"
      ],
      "metadata": {
        "id": "1NMSgJNAqGF8"
      }
    },
    {
      "cell_type": "code",
      "source": [
        "print('Shape:', items.shape)\n",
        "items"
      ],
      "metadata": {
        "id": "7TAIDHSjp_u2"
      },
      "execution_count": null,
      "outputs": []
    },
    {
      "cell_type": "code",
      "source": [
        "df['Station code'].unique()\n",
        "df"
      ],
      "metadata": {
        "id": "nK2S1ZG528ju"
      },
      "execution_count": null,
      "outputs": []
    },
    {
      "cell_type": "markdown",
      "source": [
        "csv의 날짜를 날짜 데이터 형식으로 저장"
      ],
      "metadata": {
        "id": "ttonNhuXqLnh"
      }
    },
    {
      "cell_type": "code",
      "source": [
        "df['Measurement date'] = pd.to_datetime(df['Measurement date'])"
      ],
      "metadata": {
        "id": "Bnwb6EN-qO8u"
      },
      "execution_count": null,
      "outputs": []
    },
    {
      "cell_type": "markdown",
      "source": [
        "측정소 코드 109 = 동대문구 천호대로를 분석하기 위해 데이터 추출\n",
        "101로 다시 수정"
      ],
      "metadata": {
        "id": "2IY2HPq1qXZ8"
      }
    },
    {
      "cell_type": "code",
      "source": [
        "df_109 = pd.DataFrame(df.loc[(df['Station code']==109)])\n",
        "df_109.head()\n",
        "df_109.drop(\"Station code\", axis=1, inplace=True)"
      ],
      "metadata": {
        "id": "gny1AvcWqY56"
      },
      "execution_count": null,
      "outputs": []
    },
    {
      "cell_type": "markdown",
      "source": [
        "음수값은 처리"
      ],
      "metadata": {
        "id": "s504NOQyqabn"
      }
    },
    {
      "cell_type": "code",
      "source": [
        "drop_all = df.loc[(df_109['SO2']<0) | (df['NO2']<0) | (df['CO']<0) | (df['O3']<0)]\n",
        "drop_PM = df.loc[(df_109['PM2.5']<0) | (df['PM10']<0) | (df['PM2.5']==0) | (df['PM10']==0)]\n",
        "\n",
        "drop_index = drop_all.index.append(drop_PM.index)\n",
        "df_new = df.drop(drop_index, axis=0)"
      ],
      "metadata": {
        "id": "Gqia17OH4SwQ"
      },
      "execution_count": null,
      "outputs": []
    },
    {
      "cell_type": "markdown",
      "source": [
        "날짜 형식 지정 및 결측치 처리 "
      ],
      "metadata": {
        "id": "QXX-YNiC4R2R"
      }
    },
    {
      "cell_type": "code",
      "source": [
        "df_new['Measurement date'] = pd.datetime(df_new['Measurement date'],format='%Y-%m-%d')\n",
        "df_new.set_index('Measurement date', drop=True, inplace=True)\n",
        "df_new.dropna(inplace = True)"
      ],
      "metadata": {
        "id": "tzkGPd1Dr7pS"
      },
      "execution_count": null,
      "outputs": []
    },
    {
      "cell_type": "code",
      "source": [
        "import statsmodels\n",
        "import statsmodels.api as sm\n",
        "from statsmodels.tsa.stattools import coint, adfuller"
      ],
      "metadata": {
        "id": "TgX-sEIq2Q7R"
      },
      "execution_count": null,
      "outputs": []
    },
    {
      "cell_type": "markdown",
      "source": [
        "그림 그려줄 함수 정의"
      ],
      "metadata": {
        "id": "p-H-AkT2s_Yo"
      }
    },
    {
      "cell_type": "code",
      "source": [
        "def Plot(ts):\n",
        "    rol_mean = ts.rolling(window = 12, center = False).mean()\n",
        "    rol_std = ts.rolling(window = 12, center = False).std()\n",
        "    \n",
        "    plt.plot(ts, color = 'blue',label = 'Original Data')\n",
        "    plt.plot(rol_mean, color = 'red', label = 'Rolling Mean')\n",
        "    plt.plot(rol_std, color ='black', label = 'Rolling Std')\n",
        "    plt.xticks(fontsize = 25)\n",
        "    plt.yticks(fontsize = 25)\n",
        "    \n",
        "    plt.xlabel('Time in Years', fontsize = 25)\n",
        "    plt.ylabel('Total Emissions', fontsize = 25)\n",
        "    plt.legend(loc='best', fontsize = 25)\n",
        "    plt.title('Rolling Mean & Standard Deviation', fontsize = 25)\n",
        "    plt.show(block= True)"
      ],
      "metadata": {
        "id": "flVulZq3tEBY"
      },
      "execution_count": null,
      "outputs": []
    },
    {
      "cell_type": "markdown",
      "source": [
        "정상성 체크 후 주요 통계값 출력해주는 함수 정의"
      ],
      "metadata": {
        "id": "I6hBieXKtFgp"
      }
    },
    {
      "cell_type": "code",
      "source": [
        "def Adfuller(ts, cutoff = 0.01):\n",
        "    ts_test = adfuller(ts, autolag = 'AIC')\n",
        "    ts_test_output = pd.Series(ts_test[0:4], index=['Test Statistic',\n",
        "                                                    'p-value',\n",
        "                                                    '#Lags Used',\n",
        "                                                    'Number of Observations Used'])\n",
        "    \n",
        "    for key,value in ts_test[4].items():\n",
        "        ts_test_output['Critical Value (%s)'%key] = value\n",
        "    print(ts_test_output)\n",
        "    \n",
        "    if ts_test[1] <= cutoff:\n",
        "        print(\"Strong evidence against the null hypothesis, reject the null hypothesis. Data has no unit root, hence it is stationary\")\n",
        "    else:\n",
        "        print(\"Weak evidence against null hypothesis, time series has a unit root, indicating it is non-stationary \")"
      ],
      "metadata": {
        "id": "7eQJi-IztMHz"
      },
      "execution_count": null,
      "outputs": []
    },
    {
      "cell_type": "markdown",
      "source": [
        "PM2.5(초미세먼지) 분석"
      ],
      "metadata": {
        "id": "31qxBC4mtaHR"
      }
    },
    {
      "cell_type": "code",
      "source": [
        "df_109 = pd.DataFrame(df_new.loc[(df_new['Station code']==109)])\n",
        "df_109 = df_109.set_index(\"Measurement date\")\n",
        "df_25 = df_109.iloc[:,-1:]\n",
        "df_25"
      ],
      "metadata": {
        "id": "WwOZNNWAtb3o"
      },
      "execution_count": null,
      "outputs": []
    },
    {
      "cell_type": "code",
      "source": [
        "Plot(df_25)\n",
        "Adfuller(df_25)"
      ],
      "metadata": {
        "id": "j5jXpp2OtQ3b"
      },
      "execution_count": null,
      "outputs": []
    },
    {
      "cell_type": "markdown",
      "source": [
        "p값이 원하는 값이 아니라 차분"
      ],
      "metadata": {
        "id": "0GZZvgTPtzWW"
      }
    },
    {
      "cell_type": "code",
      "source": [
        "first_difference = df_25 - df_25.shift(1)  \n",
        "Plot(first_difference.dropna(inplace=False))\n",
        "Adfuller(first_difference.dropna(inplace=False))"
      ],
      "metadata": {
        "id": "1QaI_2Xnt1Zv"
      },
      "execution_count": null,
      "outputs": []
    },
    {
      "cell_type": "markdown",
      "source": [
        "계절성 체크"
      ],
      "metadata": {
        "id": "F2kHwvUEuQ4a"
      }
    },
    {
      "cell_type": "code",
      "source": [
        "Adfuller(seasonal_first_difference.dropna(inplace=False))\n",
        "fig = plt.figure(figsize=(12,8))\n",
        "ax1 = fig.add_subplot(211)\n",
        "fig = sm.graphics.tsa.plot_acf(seasonal_first_difference.iloc[13:], lags=40, ax=ax1)\n",
        "ax2 = fig.add_subplot(212)\n",
        "fig = sm.graphics.tsa.plot_pacf(seasonal_first_difference.iloc[13:], lags=40, ax=ax2)"
      ],
      "metadata": {
        "id": "D3ABHczUtY3-"
      },
      "execution_count": null,
      "outputs": []
    },
    {
      "cell_type": "markdown",
      "source": [
        "p,d,q값을 해결하기 위해 여러 작업\n"
      ],
      "metadata": {
        "id": "-IDhnzoguZZ5"
      }
    },
    {
      "cell_type": "code",
      "source": [
        "p = d = q = range(0, 2) # 이 값들은 0~2사이의 값\n",
        "pdq = list(itertools.product(p, d, q))\n",
        "pdq_x_QDQs = [(x[0], x[1], x[2], 12) for x in list(itertools.product(p, d, q))]\n",
        "print('Examples of Seasonal ARIMA parameter combinations for Seasonal ARIMA...')\n",
        "print('SARIMAX: {} x {}'.format(pdq[1], pdq_x_QDQs[1]))\n",
        "print('SARIMAX: {} x {}'.format(pdq[2], pdq_x_QDQs[2]))"
      ],
      "metadata": {
        "id": "wHCMy3jUuvBG"
      },
      "execution_count": null,
      "outputs": []
    },
    {
      "cell_type": "code",
      "source": [
        "start_day = '2017-01-01'\n",
        "end_day = '2019-12-31'\n",
        "con1=df_25.index>=start_day\n",
        "con2=df_25.index<=end_day\n",
        "df_25_train=df_25[con1&con2]"
      ],
      "metadata": {
        "id": "x6xKurqhuzEW"
      },
      "execution_count": null,
      "outputs": []
    },
    {
      "cell_type": "markdown",
      "source": [
        "아래는 해당 p,d,q값을 일일히 for문을 돌려서 AIC값을 출력하고, 가장 낮은 값을 채택해서 아리마 모형에 적용하기 위해 사용"
      ],
      "metadata": {
        "id": "ALFbrGJ_u9Xp"
      }
    },
    {
      "cell_type": "code",
      "source": [
        "warnings.filterwarnings(\"ignore\")\n",
        "for param in pdq:\n",
        "    for param_seasonal in pdq_x_QDQs:\n",
        "        try:\n",
        "            mod = sm.tsa.statespace.SARIMAX(df_25_train,\n",
        "                                            order=param,\n",
        "                                            seasonal_order=param_seasonal,\n",
        "                                            enforce_stationarity=False,\n",
        "                                            enforce_invertibility=False)\n",
        "\n",
        "            results = mod.fit()\n",
        "\n",
        "            print('ARIMA{}x{}12 - AIC:{}'.format(param, param_seasonal, results.aic))\n",
        "        except:\n",
        "            continue"
      ],
      "metadata": {
        "id": "7jiUBFTNu7yJ"
      },
      "execution_count": null,
      "outputs": []
    },
    {
      "cell_type": "markdown",
      "source": [
        "데이터 training"
      ],
      "metadata": {
        "id": "lkrREAH9vRzJ"
      }
    },
    {
      "cell_type": "code",
      "source": [
        "mod = sm.tsa.statespace.SARIMAX(df_25_train,\n",
        "                                order=(1, 1, 1),\n",
        "                                seasonal_order=(1, 1, 1, 12),\n",
        "                                enforce_stationarity=False,\n",
        "                                enforce_invertibility=False)\n",
        "\n",
        "results = mod.fit()\n",
        "\n",
        "print(results.summary().tables[1])"
      ],
      "metadata": {
        "id": "f_FlVw7qvTkr"
      },
      "execution_count": null,
      "outputs": []
    },
    {
      "cell_type": "markdown",
      "source": [
        "잔차 분석"
      ],
      "metadata": {
        "id": "YgZ2jmtevXT1"
      }
    },
    {
      "cell_type": "code",
      "source": [
        "results.resid.plot()"
      ],
      "metadata": {
        "id": "WXrpUwj3vYnY"
      },
      "execution_count": null,
      "outputs": []
    },
    {
      "cell_type": "code",
      "source": [
        "print(results.resid.describe())"
      ],
      "metadata": {
        "id": "R82AC_K0yWxi"
      },
      "execution_count": null,
      "outputs": []
    },
    {
      "cell_type": "code",
      "source": [
        "results.plot_diagnostics(figsize=(15, 12))\n",
        "plt.show()"
      ],
      "metadata": {
        "id": "ZqDsodwjyXQd"
      },
      "execution_count": null,
      "outputs": []
    },
    {
      "cell_type": "markdown",
      "source": [
        "예측값 출력"
      ],
      "metadata": {
        "id": "hghmxe1Uvzmn"
      }
    },
    {
      "cell_type": "code",
      "source": [
        "pred = results.get_prediction(start=pd.to_datetime('2019-12-01'), dynamic=False)\n",
        "pred_ci = pred.conf_int()\n",
        "\n",
        "ax = df_25['2017-01':].plot(label='observed')\n",
        "pred.predicted_mean.plot(ax=ax, label='One-step ahead Forecast', alpha=.7)\n",
        "\n",
        "ax.fill_between(pred_ci.index,\n",
        "                pred_ci.iloc[:, 0],\n",
        "                pred_ci.iloc[:, 1], color='k', alpha=.2)\n",
        "\n",
        "ax.set_xlabel('Date')\n",
        "ax.set_ylabel('PM2.5 Levels')\n",
        "plt.legend()\n",
        "\n",
        "plt.show()"
      ],
      "metadata": {
        "id": "ZguGnutJv0xf"
      },
      "execution_count": null,
      "outputs": []
    },
    {
      "cell_type": "code",
      "source": [
        "y_forecasted = pred.predicted_mean\n",
        "y_forecasted = pd.DataFrame(y_forecasted,columns={\"PM2.5\"})\n",
        "y_truth = df_25_train['2019-12-01':]\n",
        "\n",
        "mse = ((y_forecasted - y_truth) ** 2).mean()\n",
        "print('The Mean Squared Error of our forecasts is {}'.format(round(mse, 2)))\n",
        "\n",
        "pred_dynamic = results.get_prediction(start=pd.to_datetime('2019-12-01'), dynamic=True, full_results=True)\n",
        "pred_dynamic_ci = pred_dynamic.conf_int()\n",
        "pred_dynamic.predicted_mean\n",
        "\n",
        "ax =  df_25_train['2019-10':].plot(label='observed', figsize=(20, 15))\n",
        "pred_dynamic.predicted_mean.plot(label='Dynamic Forecast', ax=ax)\n",
        "\n",
        "ax.fill_between(pred_dynamic_ci.index,\n",
        "                pred_dynamic_ci.iloc[:, 0],\n",
        "                pred_dynamic_ci.iloc[:, 1], color='k', alpha=.25)\n",
        "\n",
        "ax.fill_betweenx(ax.get_ylim(), pd.to_datetime('2019-12-01'), df_25_train.index[-1],\n",
        "                 alpha=.1, zorder=-1)\n",
        "\n",
        "ax.set_xlabel('Date')\n",
        "ax.set_ylabel('CO2 Levels')\n",
        "\n",
        "plt.legend()\n",
        "plt.show()\n",
        "\n",
        "y_forecasted = pred_dynamic.predicted_mean\n",
        "y_forecasted = pd.DataFrame(y_forecasted,columns={\"PM2.5\"})\n",
        "mte_truth = df_25_train['2019-12-1':]\n",
        "\n",
        "mse = ((y_forecasted - y_truth) ** 2).mean()\n",
        "print('The Mean Squared Error of our forecasts is {}'.format(round(mse, 2)))\n",
        "\n",
        "pred_uc = results.get_forecast(steps=500)\n",
        "\n",
        "pred_ci = pred_uc.conf_int()"
      ],
      "metadata": {
        "id": "6sHqi3KDwEpV"
      },
      "execution_count": null,
      "outputs": []
    }
  ]
}